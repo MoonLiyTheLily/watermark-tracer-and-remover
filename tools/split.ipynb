{
 "cells": [
  {
   "cell_type": "markdown",
   "id": "a0e8ee35-5f73-4d43-9bec-7c7502ddbb97",
   "metadata": {},
   "source": [
    "# Split the dataset"
   ]
  },
  {
   "cell_type": "code",
   "execution_count": 2,
   "id": "93dcfb38-49b4-4488-920a-03bbe3fb2833",
   "metadata": {},
   "outputs": [],
   "source": [
    "import shutil\n",
    "import pathlib as plb\n",
    "import os\n",
    "import random\n",
    "from tqdm import tqdm"
   ]
  },
  {
   "cell_type": "code",
   "execution_count": 3,
   "id": "6722d215-2995-4dde-ad2d-362e3eb001d2",
   "metadata": {},
   "outputs": [],
   "source": [
    "names = [i.stem for i in plb.Path('../data/WatermarkDatasetV2/images').glob('*.jpg')]"
   ]
  },
  {
   "cell_type": "code",
   "execution_count": 4,
   "id": "12f80f49-2599-4126-bfe1-9ebb2a002bee",
   "metadata": {},
   "outputs": [],
   "source": [
    "train_names = set(random.sample(names, 48000))\n",
    "val_names = set(names) - train_names"
   ]
  },
  {
   "cell_type": "code",
   "execution_count": 5,
   "id": "ee96cbf6-2567-4e91-b0ee-7b86d141fef5",
   "metadata": {},
   "outputs": [
    {
     "data": {
      "text/plain": [
       "(48000, 12000, 60000)"
      ]
     },
     "execution_count": 5,
     "metadata": {},
     "output_type": "execute_result"
    }
   ],
   "source": [
    "len(train_names), len(val_names), len(names)"
   ]
  },
  {
   "cell_type": "code",
   "execution_count": 6,
   "id": "ef353d17-d095-45d5-9c1a-c7ac888ee419",
   "metadata": {},
   "outputs": [],
   "source": [
    "train_names, val_names = list(train_names), list(val_names)"
   ]
  },
  {
   "cell_type": "code",
   "execution_count": 7,
   "id": "0645aa49-38ee-463b-b0f6-658de2eee064",
   "metadata": {},
   "outputs": [
    {
     "data": {
      "text/plain": [
       "'n02132136_17373'"
      ]
     },
     "execution_count": 7,
     "metadata": {},
     "output_type": "execute_result"
    }
   ],
   "source": [
    "train_names[0]"
   ]
  },
  {
   "cell_type": "code",
   "execution_count": 11,
   "id": "7395727e-a62f-42d0-a4ee-092865085a81",
   "metadata": {},
   "outputs": [],
   "source": [
    "os.mkdir('../data/WatermarkDatasetV2/images/train')\n",
    "os.mkdir('../data/WatermarkDatasetV2/images/val')\n",
    "os.mkdir('../data/WatermarkDatasetV2/labels/train')\n",
    "os.mkdir('../data/WatermarkDatasetV2/labels/val')"
   ]
  },
  {
   "cell_type": "code",
   "execution_count": 13,
   "id": "c831285b-e3b1-4ecd-b817-61175e1e003b",
   "metadata": {},
   "outputs": [
    {
     "name": "stderr",
     "output_type": "stream",
     "text": [
      "100%|███████████████████████████████████████████████████████████| 48000/48000 [00:14<00:00, 3364.03it/s]\n"
     ]
    }
   ],
   "source": [
    "for name in tqdm(train_names):\n",
    "    shutil.copy(\n",
    "        os.path.join('../data/WatermarkDatasetV2/images', name+'.jpg'),\n",
    "        os.path.join('../data/WatermarkDatasetV2/images', 'train', name+'.jpg'),\n",
    "    )\n",
    "    shutil.copy(\n",
    "        os.path.join('../data/WatermarkDatasetV2/labels', name+'.txt'),\n",
    "        os.path.join('../data/WatermarkDatasetV2/labels', 'train', name+'.txt'),\n",
    "    )"
   ]
  },
  {
   "cell_type": "code",
   "execution_count": 14,
   "id": "35576577-2be4-4e9f-9d49-c2c15b97dbe2",
   "metadata": {},
   "outputs": [
    {
     "name": "stderr",
     "output_type": "stream",
     "text": [
      "100%|███████████████████████████████████████████████████████████| 12000/12000 [00:03<00:00, 3234.22it/s]\n"
     ]
    }
   ],
   "source": [
    "for name in tqdm(val_names):\n",
    "    shutil.copy(\n",
    "        os.path.join('../data/WatermarkDatasetV2/images', name+'.jpg'),\n",
    "        os.path.join('../data/WatermarkDatasetV2/images', 'val', name+'.jpg'),\n",
    "    )\n",
    "    shutil.copy(\n",
    "        os.path.join('../data/WatermarkDatasetV2/labels', name+'.txt'),\n",
    "        os.path.join('../data/WatermarkDatasetV2/labels', 'val', name+'.txt'),\n",
    "    )"
   ]
  },
  {
   "cell_type": "markdown",
   "id": "521f91e2-fc8b-49d1-ab0f-d0aa2ee34bf8",
   "metadata": {},
   "source": [
    "sample some images"
   ]
  },
  {
   "cell_type": "code",
   "execution_count": 16,
   "id": "ac606302-80a4-4484-b15b-76086ef461a7",
   "metadata": {},
   "outputs": [
    {
     "name": "stdout",
     "output_type": "stream",
     "text": [
      "12000\n"
     ]
    }
   ],
   "source": [
    "names = [i.stem for i in plb.Path('../data/WatermarkDatasetV2/images/val').glob('*.jpg')]\n",
    "print(len(names))"
   ]
  },
  {
   "cell_type": "code",
   "execution_count": 17,
   "id": "558e2d67-1714-4da4-8918-0e5832967905",
   "metadata": {},
   "outputs": [],
   "source": [
    "os.mkdir('../data/WatermarkDatasetV2/test')"
   ]
  },
  {
   "cell_type": "code",
   "execution_count": 18,
   "id": "fccafbb2-e117-4ba7-82b9-4b7db33fb770",
   "metadata": {},
   "outputs": [
    {
     "name": "stderr",
     "output_type": "stream",
     "text": [
      "100%|███████████████████████████████████████████████████████████████| 100/100 [00:00<00:00, 6419.30it/s]\n"
     ]
    }
   ],
   "source": [
    "test_names = random.sample(names, 100)\n",
    "for name in tqdm(test_names):\n",
    "    shutil.copy(\n",
    "        os.path.join('../data/WatermarkDatasetV2/images', 'val', name+'.jpg'),\n",
    "        os.path.join('../data/WatermarkDatasetV2', 'test', name+'.jpg'),\n",
    "    )"
   ]
  },
  {
   "cell_type": "code",
   "execution_count": null,
   "id": "fb6343ca-4872-4d21-8815-cb0a167823b5",
   "metadata": {},
   "outputs": [],
   "source": []
  }
 ],
 "metadata": {
  "kernelspec": {
   "display_name": "Python 3 (ipykernel)",
   "language": "python",
   "name": "python3"
  },
  "language_info": {
   "codemirror_mode": {
    "name": "ipython",
    "version": 3
   },
   "file_extension": ".py",
   "mimetype": "text/x-python",
   "name": "python",
   "nbconvert_exporter": "python",
   "pygments_lexer": "ipython3",
   "version": "3.8.13"
  }
 },
 "nbformat": 4,
 "nbformat_minor": 5
}
